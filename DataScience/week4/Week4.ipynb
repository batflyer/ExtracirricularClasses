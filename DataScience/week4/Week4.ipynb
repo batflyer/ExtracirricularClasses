{
 "cells": [
  {
   "cell_type": "markdown",
   "metadata": {},
   "source": [
    "# Week 4: Important Python Libraries for Data Analysis\n",
    "Alexander L. Hayes  \n",
    "Alexander.Hayes@utdallas.edu\n",
    "\n",
    "### Previously...\n",
    "We had an in-depth introduction to Python and downloaded a dataset for Google's stock prices."
   ]
  },
  {
   "cell_type": "code",
   "execution_count": 10,
   "metadata": {
    "collapsed": false
   },
   "outputs": [
    {
     "name": "stdout",
     "output_type": "stream",
     "text": [
      "['All', 'work', 'and', 'no', 'play', 'makes', 'Jack', 'a', 'dull', 'boy', ',', 'all', 'work', 'and', 'no', 'play', 'makes', 'Jack', 'a', 'dull', 'boy', ',']\n"
     ]
    }
   ],
   "source": [
    "# Demo of the nltk library\n",
    "\n",
    "\"\"\"\n",
    "From a console:\n",
    ">>> import nltk\n",
    ">>> nltk.download()\n",
    "\n",
    "Download punkt\n",
    "\"\"\"\n",
    "\n",
    "from nltk.tokenize import word_tokenize\n",
    "\n",
    "data = \"All work and no play makes Jack a dull boy, all work and no play makes Jack a dull boy,\"\n",
    "print(word_tokenize(data))"
   ]
  },
  {
   "cell_type": "code",
   "execution_count": 26,
   "metadata": {
    "collapsed": false
   },
   "outputs": [
    {
     "name": "stdout",
     "output_type": "stream",
     "text": [
      "An array for demonstration:\n",
      "[[1 2]\n",
      " [3 4]]\n",
      "The sum of all elements: 10\n",
      "The sum of each column:  [4 6]\n",
      "The sum of each row:     [3 7]\n",
      "Another array for demonstration:\n",
      "[1 2 3]\n",
      "What is the type this array? <class 'numpy.ndarray'>\n",
      "What is the array's shape?   (3,)\n",
      "Individual elements in the array:\n",
      "        1 2 3\n"
     ]
    }
   ],
   "source": [
    "# Brief numpy demo:\n",
    "import numpy as np\n",
    "x = np.array([[1, 2], [3, 4]])\n",
    "\n",
    "print(\"An array for demonstration:\")\n",
    "print(x)\n",
    "print(\"The sum of all elements:\", np.sum(x))\n",
    "print(\"The sum of each column: \", np.sum(x, axis=0))\n",
    "print(\"The sum of each row:    \", np.sum(x, axis=1))\n",
    "\n",
    "a = np.array([1, 2, 3])\n",
    "print(\"Another array for demonstration:\")\n",
    "print(a)\n",
    "print(\"What is the type this array?\", type(a))\n",
    "print(\"What is the array's shape?  \", a.shape)\n",
    "print(\"Individual elements in the array:\")\n",
    "print(\"       \", a[0], a[1], a[2])"
   ]
  },
  {
   "cell_type": "raw",
   "metadata": {},
   "source": []
  }
 ],
 "metadata": {
  "anaconda-cloud": {},
  "kernelspec": {
   "display_name": "Python [conda root]",
   "language": "python",
   "name": "conda-root-py"
  },
  "language_info": {
   "codemirror_mode": {
    "name": "ipython",
    "version": 3
   },
   "file_extension": ".py",
   "mimetype": "text/x-python",
   "name": "python",
   "nbconvert_exporter": "python",
   "pygments_lexer": "ipython3",
   "version": "3.5.2"
  }
 },
 "nbformat": 4,
 "nbformat_minor": 1
}
