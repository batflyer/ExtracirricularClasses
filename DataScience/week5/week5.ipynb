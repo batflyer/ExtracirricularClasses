{
 "cells": [
  {
   "cell_type": "markdown",
   "metadata": {},
   "source": [
    "# Data Science with Python: Week 5\n",
    "\n",
    "Alexander L. Hayes\n",
    "\n",
    "## numpy\n",
    "\n",
    "* scientific computing with Python."
   ]
  },
  {
   "cell_type": "code",
   "execution_count": 4,
   "metadata": {
    "collapsed": false
   },
   "outputs": [
    {
     "name": "stdout",
     "output_type": "stream",
     "text": [
      "8\n",
      "24\n",
      "[1 2 3]\n",
      "[]\n"
     ]
    }
   ],
   "source": [
    "import numpy as np\n",
    "\n",
    "# Create Arrays\n",
    "a = np.array([1, 2, 3])\n",
    "b = np.array([2, 3, 5, 7])\n",
    "\n",
    "# We can see the bytes per item\n",
    "print(a.itemsize)\n",
    "\n",
    "# Bytes for a whole array\n",
    "print(a.nbytes)\n",
    "\n",
    "# numpy automatically casts data to the datatype of the array!\n",
    "a = np.arange(10)\n",
    "# First three elements.\n",
    "print(a[1:4])\n",
    "# Negative slicing.\n",
    "print(a[-1:1])"
   ]
  },
  {
   "cell_type": "code",
   "execution_count": 7,
   "metadata": {
    "collapsed": false
   },
   "outputs": [],
   "source": [
    "# \"Where\" function\n",
    "# Flattening arrays\n",
    "# Reshape arrays by copying (so long as the dimensions match)\n",
    "# Reduce\n",
    "# Outer\n",
    "# Broadcasting: Operating on arrays where dimensions do not match?"
   ]
  },
  {
   "cell_type": "markdown",
   "metadata": {},
   "source": [
    "## pandas\n",
    "\n",
    "* http://pandas.pydata.com\n",
    "* \"high-performance, easy-to-use data structures and data analysis tools.\"\n",
    "* similar to abilities to SQL\n",
    "\n",
    "Data structures include \"series\" and \"data frames.\""
   ]
  },
  {
   "cell_type": "code",
   "execution_count": 8,
   "metadata": {
    "collapsed": false
   },
   "outputs": [
    {
     "data": {
      "text/plain": [
       "0    1.0\n",
       "1    2.0\n",
       "2    3.0\n",
       "3    5.0\n",
       "4    7.0\n",
       "5    NaN\n",
       "dtype: float64"
      ]
     },
     "execution_count": 8,
     "metadata": {},
     "output_type": "execute_result"
    }
   ],
   "source": [
    "import pandas as pd\n",
    "\n",
    "pd.Series([1, 2, 3, 5, 7, np.NaN])"
   ]
  },
  {
   "cell_type": "code",
   "execution_count": 18,
   "metadata": {
    "collapsed": false
   },
   "outputs": [
    {
     "name": "stdout",
     "output_type": "stream",
     "text": [
      "                   a         b         c         d         e         f\n",
      "2017-10-01 -0.291942 -0.618230  0.585356  0.557813 -0.122150 -0.406016\n",
      "2017-10-02  0.404419 -0.178326 -1.041093 -0.502673  0.255708 -1.407318\n",
      "...\n",
      "                   a         b         c         d         e         f\n",
      "2017-10-09 -0.316267  1.034005 -0.330447 -0.132116  0.599037  0.831127\n",
      "2017-10-10  1.400917 -0.722037 -0.530590 -0.913328  1.149034 -0.184642\n",
      "\n",
      "Perhaps we are only interested in the columsns:\n",
      " Index(['a', 'b', 'c', 'd', 'e', 'f'], dtype='object')\n",
      "\n",
      "Perhaps we just want the values in the data itself:\n",
      " [[-0.29194222 -0.6182298   0.58535631  0.55781259 -0.12214956 -0.40601612]\n",
      " [ 0.404419   -0.17832564 -1.04109271 -0.50267286  0.25570844 -1.40731775]\n",
      " [-1.66922823  0.12357437  0.47227983  0.96288867  0.58992259  0.51551452]\n",
      " [-0.07949513 -0.11406532  0.13062321 -0.56319362 -0.08616227 -0.22701391]\n",
      " [-1.10378477  0.41203223  0.78358366 -0.01288373  1.07717748 -0.69111108]\n",
      " [ 0.22321895 -0.70450319  0.84428125 -0.52185184 -0.1650562   0.02934126]\n",
      " [ 0.09261465  1.49881142 -0.52862428 -0.01474541  0.54842162  2.36503612]\n",
      " [ 0.24003085 -2.24810413  1.74320579  0.15891893  0.27706572 -0.30006376]\n",
      " [-0.31626741  1.03400466 -0.33044696 -0.13211607  0.59903733  0.83112696]\n",
      " [ 1.40091739 -0.72203687 -0.53059042 -0.91332828  1.14903431 -0.18464204]]\n"
     ]
    }
   ],
   "source": [
    "dates = pd.date_range('20171001', periods=10)\n",
    "\n",
    "df = pd.DataFrame(np.random.randn(10, 6), index=dates, columns=pd.Series(['a', 'b', 'c', 'd', 'e', 'f']))\n",
    "\n",
    "print(df.head(2)) # First two rows\n",
    "print('...')\n",
    "print(df.tail(2)) # Last two rows\n",
    "\n",
    "print('\\nPerhaps we are only interested in the columsns:\\n', df.columns)\n",
    "print('\\nPerhaps we just want the values in the data itself:\\n', df.values)\n",
    "\n",
    "# Sort by index or values:\n",
    "# missing"
   ]
  },
  {
   "cell_type": "code",
   "execution_count": null,
   "metadata": {
    "collapsed": true
   },
   "outputs": [],
   "source": []
  },
  {
   "cell_type": "code",
   "execution_count": null,
   "metadata": {
    "collapsed": true
   },
   "outputs": [],
   "source": []
  }
 ],
 "metadata": {
  "anaconda-cloud": {},
  "kernelspec": {
   "display_name": "Python [conda root]",
   "language": "python",
   "name": "conda-root-py"
  },
  "language_info": {
   "codemirror_mode": {
    "name": "ipython",
    "version": 3
   },
   "file_extension": ".py",
   "mimetype": "text/x-python",
   "name": "python",
   "nbconvert_exporter": "python",
   "pygments_lexer": "ipython3",
   "version": "3.5.2"
  }
 },
 "nbformat": 4,
 "nbformat_minor": 1
}
